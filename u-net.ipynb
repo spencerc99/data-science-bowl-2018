{
 "cells": [
  {
   "cell_type": "markdown",
   "metadata": {},
   "source": [
    "# U-net model"
   ]
  },
  {
   "cell_type": "markdown",
   "metadata": {},
   "source": [
    "![](https://lmb.informatik.uni-freiburg.de/people/ronneber/u-net/u-net-architecture.png)"
   ]
  },
  {
   "cell_type": "code",
   "execution_count": 1,
   "metadata": {
    "collapsed": false
   },
   "outputs": [],
   "source": [
    "import numpy as np\n",
    "import tensorflow as tf\n",
    "from keras import backend as K\n",
    "from keras.models import Model\n",
    "from keras.layers import Input, Cropping2D, Dropout, ZeroPadding2D\n",
    "from keras.layers.convolutional import Conv2D, Conv2DTranspose\n",
    "from keras.layers.pooling import MaxPooling2D\n",
    "from keras.layers.merge import concatenate\n",
    "from utils import get_resized_train_data\n",
    "from keras.callbacks import EarlyStopping, ModelCheckpoint\n",
    "from tqdm import tqdm\n",
    "\n",
    "IMG_WIDTH = 256\n",
    "IMG_HEIGHT = 256\n",
    "IMG_DEPTH = 3\n",
    "DROPOUT_RATE = 0.2"
   ]
  },
  {
   "cell_type": "code",
   "execution_count": 3,
   "metadata": {
    "collapsed": true
   },
   "outputs": [],
   "source": [
    "# Define IoU metric\n",
    "def mean_iou(y_true, y_pred):\n",
    "    prec = []\n",
    "    for t in np.arange(0.5, 1.0, 0.05):\n",
    "        y_pred_ = tf.to_int32(y_pred > t)\n",
    "        score, up_opt = tf.metrics.mean_iou(y_true, y_pred_, 2)\n",
    "        K.get_session().run(tf.local_variables_initializer())\n",
    "        with tf.control_dependencies([up_opt]):\n",
    "            score = tf.identity(score)\n",
    "        prec.append(score)\n",
    "    return K.mean(K.stack(prec), axis=0)"
   ]
  },
  {
   "cell_type": "code",
   "execution_count": 8,
   "metadata": {
    "collapsed": false
   },
   "outputs": [
    {
     "name": "stdout",
     "output_type": "stream",
     "text": [
      "__________________________________________________________________________________________________\n",
      "Layer (type)                    Output Shape         Param #     Connected to                     \n",
      "==================================================================================================\n",
      "input_6 (InputLayer)            (None, 256, 256, 3)  0                                            \n",
      "__________________________________________________________________________________________________\n",
      "conv2d_80 (Conv2D)              (None, 256, 256, 64) 1792        input_6[0][0]                    \n",
      "__________________________________________________________________________________________________\n",
      "dropout_39 (Dropout)            (None, 256, 256, 64) 0           conv2d_80[0][0]                  \n",
      "__________________________________________________________________________________________________\n",
      "conv2d_81 (Conv2D)              (None, 256, 256, 64) 36928       dropout_39[0][0]                 \n",
      "__________________________________________________________________________________________________\n",
      "max_pooling2d_21 (MaxPooling2D) (None, 128, 128, 64) 0           conv2d_81[0][0]                  \n",
      "__________________________________________________________________________________________________\n",
      "conv2d_82 (Conv2D)              (None, 128, 128, 128 73856       max_pooling2d_21[0][0]           \n",
      "__________________________________________________________________________________________________\n",
      "dropout_40 (Dropout)            (None, 128, 128, 128 0           conv2d_82[0][0]                  \n",
      "__________________________________________________________________________________________________\n",
      "conv2d_83 (Conv2D)              (None, 128, 128, 128 147584      dropout_40[0][0]                 \n",
      "__________________________________________________________________________________________________\n",
      "max_pooling2d_22 (MaxPooling2D) (None, 64, 64, 128)  0           conv2d_83[0][0]                  \n",
      "__________________________________________________________________________________________________\n",
      "conv2d_84 (Conv2D)              (None, 64, 64, 256)  295168      max_pooling2d_22[0][0]           \n",
      "__________________________________________________________________________________________________\n",
      "dropout_41 (Dropout)            (None, 64, 64, 256)  0           conv2d_84[0][0]                  \n",
      "__________________________________________________________________________________________________\n",
      "conv2d_85 (Conv2D)              (None, 64, 64, 256)  590080      dropout_41[0][0]                 \n",
      "__________________________________________________________________________________________________\n",
      "max_pooling2d_23 (MaxPooling2D) (None, 32, 32, 256)  0           conv2d_85[0][0]                  \n",
      "__________________________________________________________________________________________________\n",
      "conv2d_86 (Conv2D)              (None, 32, 32, 512)  1180160     max_pooling2d_23[0][0]           \n",
      "__________________________________________________________________________________________________\n",
      "dropout_42 (Dropout)            (None, 32, 32, 512)  0           conv2d_86[0][0]                  \n",
      "__________________________________________________________________________________________________\n",
      "conv2d_87 (Conv2D)              (None, 32, 32, 512)  2359808     dropout_42[0][0]                 \n",
      "__________________________________________________________________________________________________\n",
      "max_pooling2d_24 (MaxPooling2D) (None, 16, 16, 512)  0           conv2d_87[0][0]                  \n",
      "__________________________________________________________________________________________________\n",
      "conv2d_88 (Conv2D)              (None, 16, 16, 1024) 4719616     max_pooling2d_24[0][0]           \n",
      "__________________________________________________________________________________________________\n",
      "dropout_43 (Dropout)            (None, 16, 16, 1024) 0           conv2d_88[0][0]                  \n",
      "__________________________________________________________________________________________________\n",
      "conv2d_89 (Conv2D)              (None, 16, 16, 1024) 9438208     dropout_43[0][0]                 \n",
      "__________________________________________________________________________________________________\n",
      "conv2d_transpose_16 (Conv2DTran (None, 32, 32, 512)  2097664     conv2d_89[0][0]                  \n",
      "__________________________________________________________________________________________________\n",
      "concatenate_16 (Concatenate)    (None, 32, 32, 1024) 0           conv2d_transpose_16[0][0]        \n",
      "                                                                 conv2d_87[0][0]                  \n",
      "__________________________________________________________________________________________________\n",
      "conv2d_90 (Conv2D)              (None, 32, 32, 512)  4719104     concatenate_16[0][0]             \n",
      "__________________________________________________________________________________________________\n",
      "dropout_44 (Dropout)            (None, 32, 32, 512)  0           conv2d_90[0][0]                  \n",
      "__________________________________________________________________________________________________\n",
      "conv2d_91 (Conv2D)              (None, 32, 32, 512)  2359808     dropout_44[0][0]                 \n",
      "__________________________________________________________________________________________________\n",
      "conv2d_transpose_17 (Conv2DTran (None, 64, 64, 256)  524544      conv2d_91[0][0]                  \n",
      "__________________________________________________________________________________________________\n",
      "concatenate_17 (Concatenate)    (None, 64, 64, 512)  0           conv2d_transpose_17[0][0]        \n",
      "                                                                 conv2d_85[0][0]                  \n",
      "__________________________________________________________________________________________________\n",
      "conv2d_92 (Conv2D)              (None, 64, 64, 256)  1179904     concatenate_17[0][0]             \n",
      "__________________________________________________________________________________________________\n",
      "dropout_45 (Dropout)            (None, 64, 64, 256)  0           conv2d_92[0][0]                  \n",
      "__________________________________________________________________________________________________\n",
      "conv2d_93 (Conv2D)              (None, 64, 64, 256)  590080      dropout_45[0][0]                 \n",
      "__________________________________________________________________________________________________\n",
      "conv2d_transpose_18 (Conv2DTran (None, 128, 128, 128 131200      conv2d_93[0][0]                  \n",
      "__________________________________________________________________________________________________\n",
      "concatenate_18 (Concatenate)    (None, 128, 128, 256 0           conv2d_transpose_18[0][0]        \n",
      "                                                                 conv2d_83[0][0]                  \n",
      "__________________________________________________________________________________________________\n",
      "conv2d_94 (Conv2D)              (None, 128, 128, 128 295040      concatenate_18[0][0]             \n",
      "__________________________________________________________________________________________________\n",
      "dropout_46 (Dropout)            (None, 128, 128, 128 0           conv2d_94[0][0]                  \n",
      "__________________________________________________________________________________________________\n",
      "conv2d_95 (Conv2D)              (None, 128, 128, 128 147584      dropout_46[0][0]                 \n",
      "__________________________________________________________________________________________________\n",
      "conv2d_transpose_19 (Conv2DTran (None, 256, 256, 64) 32832       conv2d_95[0][0]                  \n",
      "__________________________________________________________________________________________________\n",
      "concatenate_19 (Concatenate)    (None, 256, 256, 128 0           conv2d_transpose_19[0][0]        \n",
      "                                                                 conv2d_81[0][0]                  \n",
      "__________________________________________________________________________________________________\n",
      "conv2d_96 (Conv2D)              (None, 256, 256, 64) 73792       concatenate_19[0][0]             \n",
      "__________________________________________________________________________________________________\n",
      "dropout_47 (Dropout)            (None, 256, 256, 64) 0           conv2d_96[0][0]                  \n",
      "__________________________________________________________________________________________________\n",
      "conv2d_97 (Conv2D)              (None, 256, 256, 64) 36928       dropout_47[0][0]                 \n",
      "__________________________________________________________________________________________________\n",
      "conv2d_98 (Conv2D)              (None, 256, 256, 1)  65          conv2d_97[0][0]                  \n",
      "==================================================================================================\n",
      "Total params: 31,031,745\n",
      "Trainable params: 31,031,745\n",
      "Non-trainable params: 0\n",
      "__________________________________________________________________________________________________\n"
     ]
    }
   ],
   "source": [
    "inps = Input((IMG_WIDTH, IMG_HEIGHT, IMG_DEPTH))\n",
    "# pad = ZeroPadding2D(((64, 64), (64, 64)))(inps)\n",
    "conv1 = Conv2D(64, (3,3), activation='relu', padding='same', kernel_initializer='he_normal')(inps)\n",
    "conv1 = Dropout(.1)(conv1)\n",
    "conv1 = Conv2D(64, (3,3), activation='relu', padding='same', kernel_initializer='he_normal')(conv1)\n",
    "pool = MaxPooling2D(pool_size=(2,2))(conv1)\n",
    "conv2 = Conv2D(128, (3,3), activation='relu', padding='same', kernel_initializer='he_normal')(pool)\n",
    "conv2 = Dropout(.1)(conv2)\n",
    "conv2 = Conv2D(128, (3,3), activation='relu', padding='same', kernel_initializer='he_normal')(conv2)\n",
    "pool2 = MaxPooling2D(pool_size=(2,2))(conv2)\n",
    "conv3 = Conv2D(256, (3,3), activation='relu', padding='same', kernel_initializer='he_normal')(pool2)\n",
    "conv3 = Dropout(.2)(conv3)\n",
    "conv3 = Conv2D(256, (3,3), activation='relu', padding='same', kernel_initializer='he_normal')(conv3)\n",
    "pool3 = MaxPooling2D(pool_size=(2,2))(conv3)\n",
    "conv4 = Conv2D(512, (3,3), activation='relu', padding='same', kernel_initializer='he_normal')(pool3)\n",
    "conv4 = Dropout(.2)(conv4)\n",
    "conv4 = Conv2D(512, (3,3), activation='relu', padding='same', kernel_initializer='he_normal')(conv4)\n",
    "pool4 = MaxPooling2D(pool_size=(2,2))(conv4)\n",
    "conv5 = Conv2D(1024, (3,3), activation='relu', padding='same', kernel_initializer='he_normal')(pool4)\n",
    "conv5 = Dropout(.2)(conv5)\n",
    "conv5 = Conv2D(1024, (3,3), activation='relu', padding='same', kernel_initializer='he_normal')(conv5)\n",
    "\n",
    "# start deconvoluting\n",
    "deconv1 = Conv2DTranspose(512, (2,2), strides=(2,2), padding='same')(conv5)\n",
    "# deconv1 = Conv2DTranspose(512, (2,2), padding='same')(conv5)\n",
    "# cropped_conv4 = Cropping2D(cropping=((4, 4), (4, 4)))(conv4)\n",
    "# deconv1 = concatenate([deconv1, cropped_conv4])\n",
    "deconv1 = concatenate([deconv1, conv4])\n",
    "conv6 = Conv2D(512, (3,3), activation='relu', padding='same', kernel_initializer='he_normal')(deconv1)\n",
    "conv6 = Dropout(.2)(conv6)\n",
    "conv6 = Conv2D(512, (3,3), activation='relu', padding='same', kernel_initializer='he_normal')(conv6)\n",
    "deconv2 = Conv2DTranspose(256, (2,2), strides=(2,2), padding='same')(conv6)\n",
    "# cropped_conv3 = Cropping2D(cropping=((16, 17), (16, 17)))(conv3)\n",
    "# deconv2 = concatenate([deconv2, cropped_conv3])\n",
    "deconv2 = concatenate([deconv2, conv3])\n",
    "conv7 = Conv2D(256, (3,3), activation='relu', padding='same', kernel_initializer='he_normal')(deconv2)\n",
    "conv7 = Dropout(.2)(conv7)\n",
    "conv7 = Conv2D(256, (3,3), activation='relu', padding='same', kernel_initializer='he_normal')(conv7)\n",
    "deconv3 = Conv2DTranspose(128, (2,2), strides=(2,2), padding='same')(conv7)\n",
    "# cropped_conv2 = Cropping2D(cropping=((41, 41), (41, 41)))(conv2)\n",
    "# deconv3 = concatenate([deconv3, cropped_conv2])\n",
    "deconv3 = concatenate([deconv3, conv2])\n",
    "conv8 = Conv2D(128, (3,3), activation='relu', padding='same', kernel_initializer='he_normal')(deconv3)\n",
    "conv8 = Dropout(.2)(conv8)\n",
    "conv8 = Conv2D(128, (3,3), activation='relu', padding='same', kernel_initializer='he_normal')(conv8)\n",
    "deconv4 = Conv2DTranspose(64, (2,2), strides=(2,2), padding='same')(conv8)\n",
    "# cropped_conv1 = Cropping2D(cropping=((90, 90), (90, 90)))(conv1)\n",
    "# deconv4 = concatenate([deconv4, cropped_conv1])\n",
    "deconv4 = concatenate([deconv4, conv1])\n",
    "conv9 = Conv2D(64, (3,3), activation='relu', padding='same', kernel_initializer='he_normal')(deconv4)\n",
    "conv9 = Dropout(.2)(conv9)\n",
    "conv9 = Conv2D(64, (3,3), activation='relu', padding='same', kernel_initializer='he_normal')(conv9)\n",
    "outs = Conv2D(1, (1,1), activation='sigmoid')(conv9)\n",
    "\n",
    "model = Model(inputs=[inps], outputs=[outs])\n",
    "model.compile(optimizer='adam', loss='binary_crossentropy', metrics=[mean_iou])\n",
    "model.summary()"
   ]
  },
  {
   "cell_type": "code",
   "execution_count": null,
   "metadata": {
    "collapsed": false
   },
   "outputs": [],
   "source": [
    "import utils\n",
    "from importlib import reload\n",
    "reload(utils)\n",
    "X_train, y_train = utils.get_resized_train_data()"
   ]
  },
  {
   "cell_type": "code",
   "execution_count": null,
   "metadata": {
    "collapsed": false,
    "scrolled": true
   },
   "outputs": [
    {
     "name": "stdout",
     "output_type": "stream",
     "text": [
      "Train on 603 samples, validate on 67 samples\n",
      "Epoch 1/50\n"
     ]
    }
   ],
   "source": [
    "earlystopper = EarlyStopping(patience=5, verbose=1)\n",
    "checkpointer = ModelCheckpoint('unet-model-dsbowl2018-1.h5', verbose=1, save_best_only=True)\n",
    "results = model.fit(X_train, y_train, validation_split=0.1, batch_size=16, epochs=50, \n",
    "                    callbacks=[earlystopper, checkpointer])# Define IoU metric"
   ]
  }
 ],
 "metadata": {
  "kernelspec": {
   "display_name": "Python3",
   "language": "python",
   "name": "python3"
  },
  "language_info": {
   "codemirror_mode": {
    "name": "ipython",
    "version": 3
   },
   "file_extension": ".py",
   "mimetype": "text/x-python",
   "name": "python",
   "nbconvert_exporter": "python",
   "pygments_lexer": "ipython3",
   "version": "3.6.0"
  }
 },
 "nbformat": 4,
 "nbformat_minor": 2
}
